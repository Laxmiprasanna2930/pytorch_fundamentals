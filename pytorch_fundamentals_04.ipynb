{
  "nbformat": 4,
  "nbformat_minor": 0,
  "metadata": {
    "colab": {
      "provenance": [],
      "authorship_tag": "ABX9TyOYV/FKErfbmKQH/c9Fn3vi",
      "include_colab_link": true
    },
    "kernelspec": {
      "name": "python3",
      "display_name": "Python 3"
    },
    "language_info": {
      "name": "python"
    }
  },
  "cells": [
    {
      "cell_type": "markdown",
      "metadata": {
        "id": "view-in-github",
        "colab_type": "text"
      },
      "source": [
        "<a href=\"https://colab.research.google.com/github/Laxmiprasanna2930/pytorch_fundamentals/blob/main/pytorch_fundamentals_04.ipynb\" target=\"_parent\"><img src=\"https://colab.research.google.com/assets/colab-badge.svg\" alt=\"Open In Colab\"/></a>"
      ]
    },
    {
      "cell_type": "markdown",
      "source": [
        "### Finding the positional min and max"
      ],
      "metadata": {
        "id": "fNXi6GfGZ4MQ"
      }
    },
    {
      "cell_type": "code",
      "execution_count": 2,
      "metadata": {
        "id": "3wwQbaNdWyFb",
        "colab": {
          "base_uri": "https://localhost:8080/"
        },
        "outputId": "39afc9e2-afe4-49b4-9b74-5f29c6bce75d"
      },
      "outputs": [
        {
          "output_type": "execute_result",
          "data": {
            "text/plain": [
              "tensor([ 0, 10, 20, 30, 40, 50, 60, 70, 80, 90])"
            ]
          },
          "metadata": {},
          "execution_count": 2
        }
      ],
      "source": [
        "import torch\n",
        "x=torch.arange(0,100,10)\n",
        "x"
      ]
    },
    {
      "cell_type": "code",
      "source": [
        "# Find the position in tensor that has the minimum value with argmin() -> returns index position of target tensor where minimum value occurs"
      ],
      "metadata": {
        "id": "BqrZR5hJagSk"
      },
      "execution_count": 5,
      "outputs": []
    },
    {
      "cell_type": "code",
      "source": [
        "x.argmin()"
      ],
      "metadata": {
        "id": "Wp8Y3k1wW82n",
        "colab": {
          "base_uri": "https://localhost:8080/"
        },
        "outputId": "3e36c1d3-02e3-4600-9a0f-06c835e8b094"
      },
      "execution_count": 3,
      "outputs": [
        {
          "output_type": "execute_result",
          "data": {
            "text/plain": [
              "tensor(0)"
            ]
          },
          "metadata": {},
          "execution_count": 3
        }
      ]
    },
    {
      "cell_type": "code",
      "source": [
        "x[0]"
      ],
      "metadata": {
        "id": "ry6lTEdBW8oG",
        "colab": {
          "base_uri": "https://localhost:8080/"
        },
        "outputId": "504f40a0-5bc5-43f0-8900-f283a96238cc"
      },
      "execution_count": 4,
      "outputs": [
        {
          "output_type": "execute_result",
          "data": {
            "text/plain": [
              "tensor(0)"
            ]
          },
          "metadata": {},
          "execution_count": 4
        }
      ]
    },
    {
      "cell_type": "code",
      "source": [
        "# Find the position in tensor that has the miximum value with argmax()"
      ],
      "metadata": {
        "id": "N_Hb_uCyW8Xr"
      },
      "execution_count": 6,
      "outputs": []
    },
    {
      "cell_type": "code",
      "source": [
        "x.argmax()"
      ],
      "metadata": {
        "id": "PFjNc0_LW8EN",
        "colab": {
          "base_uri": "https://localhost:8080/"
        },
        "outputId": "e1b7f46e-71b6-4d24-dafe-288aff5db40a"
      },
      "execution_count": 7,
      "outputs": [
        {
          "output_type": "execute_result",
          "data": {
            "text/plain": [
              "tensor(9)"
            ]
          },
          "metadata": {},
          "execution_count": 7
        }
      ]
    },
    {
      "cell_type": "code",
      "source": [
        "x[9]"
      ],
      "metadata": {
        "id": "A4i5OCH7W72l",
        "colab": {
          "base_uri": "https://localhost:8080/"
        },
        "outputId": "b8275b7b-b0d8-4f36-b369-28f42fcfef5f"
      },
      "execution_count": 8,
      "outputs": [
        {
          "output_type": "execute_result",
          "data": {
            "text/plain": [
              "tensor(90)"
            ]
          },
          "metadata": {},
          "execution_count": 8
        }
      ]
    },
    {
      "cell_type": "markdown",
      "source": [
        "### Reshaping,stacking,squeezing and unsqueezing tensors\n",
        "* Reshaping- reshapes an input tensor to a defined shape\n",
        "* view- return a view of an input tensor of certain shape but keep the same memory as the original tensor\n",
        "* Stacking- combine multiple tensors on top of each other (vstack) or side by side (hstack)\n",
        "* Squeeze- removes all 'l' dimensions from a tensor\n",
        "* Unsqueeze- add a 'l' dimension to a target tensor\n",
        "* Permute- return a view of the input with dimensions permuted (swapped) in a certain way\n",
        "\n",
        "\n",
        "\n",
        "\n",
        "\n"
      ],
      "metadata": {
        "id": "TtEom13qbc43"
      }
    },
    {
      "cell_type": "code",
      "source": [
        "# create a tensor"
      ],
      "metadata": {
        "id": "VLW150VtW7l4"
      },
      "execution_count": 9,
      "outputs": []
    },
    {
      "cell_type": "code",
      "source": [
        "import torch\n",
        "x=torch.arange(1.,10.)\n",
        "x,x.shape"
      ],
      "metadata": {
        "id": "sS-_RuJQW7Vk",
        "colab": {
          "base_uri": "https://localhost:8080/"
        },
        "outputId": "b7de480e-5fc8-4475-f66d-d8486239dab2"
      },
      "execution_count": 10,
      "outputs": [
        {
          "output_type": "execute_result",
          "data": {
            "text/plain": [
              "(tensor([1., 2., 3., 4., 5., 6., 7., 8., 9.]), torch.Size([9]))"
            ]
          },
          "metadata": {},
          "execution_count": 10
        }
      ]
    },
    {
      "cell_type": "code",
      "source": [
        "# Add an extra dimension"
      ],
      "metadata": {
        "id": "3pkBixGbdWoh"
      },
      "execution_count": 12,
      "outputs": []
    },
    {
      "cell_type": "code",
      "source": [
        "x_reshaped=x.reshape(9,1)\n",
        "x_reshaped,x_reshaped.shape"
      ],
      "metadata": {
        "colab": {
          "base_uri": "https://localhost:8080/"
        },
        "id": "gIHZrGusdaWB",
        "outputId": "ab156b75-9d06-439c-b623-f9e6a4e6df11"
      },
      "execution_count": 28,
      "outputs": [
        {
          "output_type": "execute_result",
          "data": {
            "text/plain": [
              "(tensor([[5.],\n",
              "         [2.],\n",
              "         [3.],\n",
              "         [4.],\n",
              "         [5.],\n",
              "         [6.],\n",
              "         [7.],\n",
              "         [8.],\n",
              "         [9.]]),\n",
              " torch.Size([9, 1]))"
            ]
          },
          "metadata": {},
          "execution_count": 28
        }
      ]
    },
    {
      "cell_type": "code",
      "source": [
        "x_reshaped=x.reshape(1,9)\n",
        "x_reshaped,x_reshaped.shape"
      ],
      "metadata": {
        "colab": {
          "base_uri": "https://localhost:8080/"
        },
        "id": "F6SV2BjpdoRp",
        "outputId": "4e8a3f76-fa1a-4d41-88cb-439d223a2cf1"
      },
      "execution_count": 29,
      "outputs": [
        {
          "output_type": "execute_result",
          "data": {
            "text/plain": [
              "(tensor([[5., 2., 3., 4., 5., 6., 7., 8., 9.]]), torch.Size([1, 9]))"
            ]
          },
          "metadata": {},
          "execution_count": 29
        }
      ]
    },
    {
      "cell_type": "code",
      "source": [
        "# Change the view"
      ],
      "metadata": {
        "id": "fj8NZ0G5dyqj"
      },
      "execution_count": 15,
      "outputs": []
    },
    {
      "cell_type": "code",
      "source": [
        "z=x.view(1,9)\n",
        "z,z.shape"
      ],
      "metadata": {
        "colab": {
          "base_uri": "https://localhost:8080/"
        },
        "id": "kGtoNqMfd3Zd",
        "outputId": "8f5ad832-3140-4d6f-aa7e-e26bfd3c9cf5"
      },
      "execution_count": 16,
      "outputs": [
        {
          "output_type": "execute_result",
          "data": {
            "text/plain": [
              "(tensor([[1., 2., 3., 4., 5., 6., 7., 8., 9.]]), torch.Size([1, 9]))"
            ]
          },
          "metadata": {},
          "execution_count": 16
        }
      ]
    },
    {
      "cell_type": "code",
      "source": [
        "# Changing z changes x (because a view of a tensor shares the same memory as the original input)"
      ],
      "metadata": {
        "id": "j_8mQUYjeST4"
      },
      "execution_count": 17,
      "outputs": []
    },
    {
      "cell_type": "code",
      "source": [
        "z[:,0]=5\n",
        "z,x"
      ],
      "metadata": {
        "colab": {
          "base_uri": "https://localhost:8080/"
        },
        "id": "cj_8IiMjegNm",
        "outputId": "39242605-ea0e-4f61-996e-931d204fc3db"
      },
      "execution_count": 18,
      "outputs": [
        {
          "output_type": "execute_result",
          "data": {
            "text/plain": [
              "(tensor([[5., 2., 3., 4., 5., 6., 7., 8., 9.]]),\n",
              " tensor([5., 2., 3., 4., 5., 6., 7., 8., 9.]))"
            ]
          },
          "metadata": {},
          "execution_count": 18
        }
      ]
    },
    {
      "cell_type": "code",
      "source": [
        "# stack tensors on top of each other"
      ],
      "metadata": {
        "id": "uHbRz-JheitQ"
      },
      "execution_count": 19,
      "outputs": []
    },
    {
      "cell_type": "code",
      "source": [
        "x_stacked=torch.stack([x,x,x,x],dim=1)\n",
        "x_stacked"
      ],
      "metadata": {
        "colab": {
          "base_uri": "https://localhost:8080/"
        },
        "id": "0bT6YhIaete6",
        "outputId": "8b2a5e44-9851-4fd2-ce66-e0a9c12c71a5"
      },
      "execution_count": 25,
      "outputs": [
        {
          "output_type": "execute_result",
          "data": {
            "text/plain": [
              "tensor([[5., 5., 5., 5.],\n",
              "        [2., 2., 2., 2.],\n",
              "        [3., 3., 3., 3.],\n",
              "        [4., 4., 4., 4.],\n",
              "        [5., 5., 5., 5.],\n",
              "        [6., 6., 6., 6.],\n",
              "        [7., 7., 7., 7.],\n",
              "        [8., 8., 8., 8.],\n",
              "        [9., 9., 9., 9.]])"
            ]
          },
          "metadata": {},
          "execution_count": 25
        }
      ]
    },
    {
      "cell_type": "code",
      "source": [
        "x_stacked=torch.stack([x,x,x,x],dim=0)\n",
        "x_stacked"
      ],
      "metadata": {
        "colab": {
          "base_uri": "https://localhost:8080/"
        },
        "id": "3-hfeg0ae72C",
        "outputId": "a0db501a-5a15-46ee-9516-c03bc79f6969"
      },
      "execution_count": 26,
      "outputs": [
        {
          "output_type": "execute_result",
          "data": {
            "text/plain": [
              "tensor([[5., 2., 3., 4., 5., 6., 7., 8., 9.],\n",
              "        [5., 2., 3., 4., 5., 6., 7., 8., 9.],\n",
              "        [5., 2., 3., 4., 5., 6., 7., 8., 9.],\n",
              "        [5., 2., 3., 4., 5., 6., 7., 8., 9.]])"
            ]
          },
          "metadata": {},
          "execution_count": 26
        }
      ]
    },
    {
      "cell_type": "code",
      "source": [
        "# torch.squeeze()-removes all single dimensions from a target tensor"
      ],
      "metadata": {
        "id": "OgCnhiTEfHO6"
      },
      "execution_count": 23,
      "outputs": []
    },
    {
      "cell_type": "code",
      "source": [
        "print(f\"previous tensor:{x_reshaped}\")\n",
        "print(f\"previous shape:{x_reshaped.shape}\")"
      ],
      "metadata": {
        "colab": {
          "base_uri": "https://localhost:8080/"
        },
        "id": "rI7h4j7WfioN",
        "outputId": "ed0d5925-acc1-4d82-c093-3cd99d58ecf5"
      },
      "execution_count": 34,
      "outputs": [
        {
          "output_type": "stream",
          "name": "stdout",
          "text": [
            "previous tensor:tensor([[5., 2., 3., 4., 5., 6., 7., 8., 9.]])\n",
            "previous shape:torch.Size([1, 9])\n"
          ]
        }
      ]
    },
    {
      "cell_type": "code",
      "source": [
        "# Remove extra dimension from x_reshaped"
      ],
      "metadata": {
        "id": "_RoOGeySgTfz"
      },
      "execution_count": 35,
      "outputs": []
    },
    {
      "cell_type": "code",
      "source": [
        "x_squeezed=x_reshaped.squeeze()\n",
        "print(f\"\\nnew tensor:{x_squeezed}\")\n",
        "print(f\"new shape:{x_squeezed.shape}\")"
      ],
      "metadata": {
        "colab": {
          "base_uri": "https://localhost:8080/"
        },
        "id": "Y6CKt5hIgZnX",
        "outputId": "75e6ede0-d282-44a2-dd7b-d1c908ebb2af"
      },
      "execution_count": 36,
      "outputs": [
        {
          "output_type": "stream",
          "name": "stdout",
          "text": [
            "\n",
            "new tensor:tensor([5., 2., 3., 4., 5., 6., 7., 8., 9.])\n",
            "new shape:torch.Size([9])\n"
          ]
        }
      ]
    },
    {
      "cell_type": "code",
      "source": [
        "x_reshaped.shape"
      ],
      "metadata": {
        "colab": {
          "base_uri": "https://localhost:8080/"
        },
        "id": "zMmOltTwfkAd",
        "outputId": "3138cf28-a63c-4047-aade-e63e8f15133f"
      },
      "execution_count": 31,
      "outputs": [
        {
          "output_type": "execute_result",
          "data": {
            "text/plain": [
              "torch.Size([1, 9])"
            ]
          },
          "metadata": {},
          "execution_count": 31
        }
      ]
    },
    {
      "cell_type": "code",
      "source": [
        "x_reshaped.squeeze()"
      ],
      "metadata": {
        "colab": {
          "base_uri": "https://localhost:8080/"
        },
        "id": "wpTOD9i2f2Yp",
        "outputId": "e607617b-84ed-4d13-8963-2b737cfd7fcb"
      },
      "execution_count": 32,
      "outputs": [
        {
          "output_type": "execute_result",
          "data": {
            "text/plain": [
              "tensor([5., 2., 3., 4., 5., 6., 7., 8., 9.])"
            ]
          },
          "metadata": {},
          "execution_count": 32
        }
      ]
    },
    {
      "cell_type": "code",
      "source": [
        "x_reshaped.squeeze().shape"
      ],
      "metadata": {
        "colab": {
          "base_uri": "https://localhost:8080/"
        },
        "id": "PH16zmjrf53C",
        "outputId": "7e82e2b5-e486-4d92-e39a-b61cc9ddea04"
      },
      "execution_count": 33,
      "outputs": [
        {
          "output_type": "execute_result",
          "data": {
            "text/plain": [
              "torch.Size([9])"
            ]
          },
          "metadata": {},
          "execution_count": 33
        }
      ]
    },
    {
      "cell_type": "code",
      "source": [
        "# torch.unsqueeze()-adds a single dimension to a target at a specific dim(dimension)"
      ],
      "metadata": {
        "id": "tS4ugynDgBMD"
      },
      "execution_count": 37,
      "outputs": []
    },
    {
      "cell_type": "code",
      "source": [
        "print(f\"previous target:{x_squeezed}\")\n",
        "print(f\"previous shape:{x_squeezed.shape}\")"
      ],
      "metadata": {
        "colab": {
          "base_uri": "https://localhost:8080/"
        },
        "id": "vJNXjsSphDTn",
        "outputId": "73b7f6dc-f9f2-49b3-94b0-32ff0bd5259e"
      },
      "execution_count": 38,
      "outputs": [
        {
          "output_type": "stream",
          "name": "stdout",
          "text": [
            "previous target:tensor([5., 2., 3., 4., 5., 6., 7., 8., 9.])\n",
            "previous shape:torch.Size([9])\n"
          ]
        }
      ]
    },
    {
      "cell_type": "code",
      "source": [
        "# Adds an extra dimension with unsqueeze"
      ],
      "metadata": {
        "id": "FOEePTeghP1F"
      },
      "execution_count": 39,
      "outputs": []
    },
    {
      "cell_type": "code",
      "source": [
        "x_unsqueezed=x_squeezed.unsqueeze(dim=0)\n",
        "print(f\"\\n new tensor:{x_unsqueezed}\")\n",
        "print(f\"new shape:{x_unsqueezed.shape}\")"
      ],
      "metadata": {
        "colab": {
          "base_uri": "https://localhost:8080/"
        },
        "id": "ACEF0noxhWDb",
        "outputId": "7f70f5dc-4e64-4b2e-feab-862c08499430"
      },
      "execution_count": 40,
      "outputs": [
        {
          "output_type": "stream",
          "name": "stdout",
          "text": [
            "\n",
            " new tensor:tensor([[5., 2., 3., 4., 5., 6., 7., 8., 9.]])\n",
            "new shape:torch.Size([1, 9])\n"
          ]
        }
      ]
    },
    {
      "cell_type": "code",
      "source": [
        "# torch.permute- rearranges the dimensions of a target tensor in a specified order"
      ],
      "metadata": {
        "id": "zgzzgHCwhsHO"
      },
      "execution_count": 41,
      "outputs": []
    },
    {
      "cell_type": "code",
      "source": [
        "x_original=torch.rand(size=(224,224,3)) # [height,width,colour_channels]"
      ],
      "metadata": {
        "id": "DYFKmi9liOjC"
      },
      "execution_count": 42,
      "outputs": []
    },
    {
      "cell_type": "code",
      "source": [
        "# Permute the original tensor to rearrange the axis(or dim) oder"
      ],
      "metadata": {
        "id": "AkyEe5honqit"
      },
      "execution_count": 43,
      "outputs": []
    },
    {
      "cell_type": "code",
      "source": [
        "x_permuted=x_original.permute(2,0,1) # shifts axis 0->1, 1->2,2->0\n",
        "print(f\"previous shape:{x_original.shape}\")\n",
        "print(f\"new shape:{x_permuted.shape}\") # [colour_channels,height,width]"
      ],
      "metadata": {
        "colab": {
          "base_uri": "https://localhost:8080/"
        },
        "id": "XwcvHWqJn2fn",
        "outputId": "cc6a1c2b-4567-4758-aa01-c569164a94f9"
      },
      "execution_count": 44,
      "outputs": [
        {
          "output_type": "stream",
          "name": "stdout",
          "text": [
            "previous shape:torch.Size([224, 224, 3])\n",
            "new shape:torch.Size([3, 224, 224])\n"
          ]
        }
      ]
    },
    {
      "cell_type": "code",
      "source": [
        "x_original"
      ],
      "metadata": {
        "colab": {
          "base_uri": "https://localhost:8080/"
        },
        "id": "yEQaBStPodla",
        "outputId": "b335c2b6-3dc8-40bc-b7f2-2215915e7730"
      },
      "execution_count": 45,
      "outputs": [
        {
          "output_type": "execute_result",
          "data": {
            "text/plain": [
              "tensor([[[0.0582, 0.5677, 0.9094],\n",
              "         [0.5063, 0.5961, 0.0927],\n",
              "         [0.0621, 0.2981, 0.8228],\n",
              "         ...,\n",
              "         [0.2941, 0.5485, 0.6724],\n",
              "         [0.8931, 0.7217, 0.3237],\n",
              "         [0.9670, 0.9151, 0.6672]],\n",
              "\n",
              "        [[0.6737, 0.8317, 0.3779],\n",
              "         [0.2487, 0.1329, 0.3858],\n",
              "         [0.5328, 0.6320, 0.1513],\n",
              "         ...,\n",
              "         [0.1608, 0.8489, 0.1672],\n",
              "         [0.8792, 0.7294, 0.4960],\n",
              "         [0.3879, 0.3090, 0.2666]],\n",
              "\n",
              "        [[0.3912, 0.0672, 0.5694],\n",
              "         [0.2962, 0.8405, 0.3308],\n",
              "         [0.6359, 0.8276, 0.1851],\n",
              "         ...,\n",
              "         [0.0893, 0.4911, 0.6893],\n",
              "         [0.5512, 0.8106, 0.0113],\n",
              "         [0.0311, 0.8149, 0.5321]],\n",
              "\n",
              "        ...,\n",
              "\n",
              "        [[0.1602, 0.5803, 0.7439],\n",
              "         [0.1946, 0.2718, 0.1945],\n",
              "         [0.6293, 0.0932, 0.6653],\n",
              "         ...,\n",
              "         [0.2343, 0.9398, 0.2809],\n",
              "         [0.8449, 0.1629, 0.2314],\n",
              "         [0.5569, 0.4752, 0.4297]],\n",
              "\n",
              "        [[0.3423, 0.4292, 0.4991],\n",
              "         [0.8971, 0.8844, 0.9633],\n",
              "         [0.2590, 0.6805, 0.3483],\n",
              "         ...,\n",
              "         [0.0574, 0.0622, 0.9666],\n",
              "         [0.8420, 0.8588, 0.7552],\n",
              "         [0.1196, 0.3852, 0.3205]],\n",
              "\n",
              "        [[0.8304, 0.9287, 0.6130],\n",
              "         [0.4879, 0.9742, 0.9464],\n",
              "         [0.0936, 0.3718, 0.1253],\n",
              "         ...,\n",
              "         [0.1175, 0.0299, 0.8209],\n",
              "         [0.2009, 0.6222, 0.6893],\n",
              "         [0.5712, 0.0421, 0.2080]]])"
            ]
          },
          "metadata": {},
          "execution_count": 45
        }
      ]
    },
    {
      "cell_type": "code",
      "source": [
        "x_original[0,0,0]=728218\n",
        "x_original[0,0,0],x_permuted[0,0,0]"
      ],
      "metadata": {
        "colab": {
          "base_uri": "https://localhost:8080/"
        },
        "id": "RUjNHdTjowMO",
        "outputId": "606eaec0-9481-4241-bd3e-0d8be073ca9a"
      },
      "execution_count": 48,
      "outputs": [
        {
          "output_type": "execute_result",
          "data": {
            "text/plain": [
              "(tensor(728218.), tensor(728218.))"
            ]
          },
          "metadata": {},
          "execution_count": 48
        }
      ]
    },
    {
      "cell_type": "markdown",
      "source": [
        "### Indexing (selecting data from tensors)\n",
        "Indexing with PyTorch is similar to indexing with NumPy"
      ],
      "metadata": {
        "id": "hTBy-8UepT_j"
      }
    },
    {
      "cell_type": "code",
      "source": [
        "# create a tensor"
      ],
      "metadata": {
        "id": "oVqWO07Go4uY"
      },
      "execution_count": 50,
      "outputs": []
    },
    {
      "cell_type": "code",
      "source": [
        "import torch\n",
        "x=torch.arange(1,10).reshape(1,3,3)\n",
        "x,x.shape"
      ],
      "metadata": {
        "colab": {
          "base_uri": "https://localhost:8080/"
        },
        "id": "QoehNzkQpQx7",
        "outputId": "57f9222e-bd55-4639-adfc-fec73a1a504a"
      },
      "execution_count": 51,
      "outputs": [
        {
          "output_type": "execute_result",
          "data": {
            "text/plain": [
              "(tensor([[[1, 2, 3],\n",
              "          [4, 5, 6],\n",
              "          [7, 8, 9]]]),\n",
              " torch.Size([1, 3, 3]))"
            ]
          },
          "metadata": {},
          "execution_count": 51
        }
      ]
    },
    {
      "cell_type": "code",
      "source": [
        "# Index on our new tensor"
      ],
      "metadata": {
        "id": "IySOPIz6puD_"
      },
      "execution_count": 52,
      "outputs": []
    },
    {
      "cell_type": "code",
      "source": [
        "x[0]"
      ],
      "metadata": {
        "colab": {
          "base_uri": "https://localhost:8080/"
        },
        "id": "dAghNmAMp4cx",
        "outputId": "47127ebc-2f3d-4dd6-8bb1-8cc9271f88b1"
      },
      "execution_count": 53,
      "outputs": [
        {
          "output_type": "execute_result",
          "data": {
            "text/plain": [
              "tensor([[1, 2, 3],\n",
              "        [4, 5, 6],\n",
              "        [7, 8, 9]])"
            ]
          },
          "metadata": {},
          "execution_count": 53
        }
      ]
    },
    {
      "cell_type": "code",
      "source": [
        "# Index on middle bracket (dim=1)"
      ],
      "metadata": {
        "id": "3tT-8y3dp5FS"
      },
      "execution_count": 54,
      "outputs": []
    },
    {
      "cell_type": "code",
      "source": [
        "x[0][0]"
      ],
      "metadata": {
        "colab": {
          "base_uri": "https://localhost:8080/"
        },
        "id": "2XchdlFBp9vM",
        "outputId": "743e7442-86ef-4c04-e1d2-bf85b1ed64ab"
      },
      "execution_count": 55,
      "outputs": [
        {
          "output_type": "execute_result",
          "data": {
            "text/plain": [
              "tensor([1, 2, 3])"
            ]
          },
          "metadata": {},
          "execution_count": 55
        }
      ]
    },
    {
      "cell_type": "code",
      "source": [
        "# Index on the  most inner bracket (last dimension)"
      ],
      "metadata": {
        "id": "9pK0IP0Pp_Tn"
      },
      "execution_count": 56,
      "outputs": []
    },
    {
      "cell_type": "code",
      "source": [
        "x[0][0][0]"
      ],
      "metadata": {
        "colab": {
          "base_uri": "https://localhost:8080/"
        },
        "id": "YgLNwy1vqKEg",
        "outputId": "c3e4bc49-e097-4ca0-8cf5-25e895cf7611"
      },
      "execution_count": 57,
      "outputs": [
        {
          "output_type": "execute_result",
          "data": {
            "text/plain": [
              "tensor(1)"
            ]
          },
          "metadata": {},
          "execution_count": 57
        }
      ]
    },
    {
      "cell_type": "code",
      "source": [
        "x[0][1][1]"
      ],
      "metadata": {
        "colab": {
          "base_uri": "https://localhost:8080/"
        },
        "id": "DdCDlq3gqLhu",
        "outputId": "28cb6149-d320-4ac0-a21e-10d9d966bb53"
      },
      "execution_count": 61,
      "outputs": [
        {
          "output_type": "execute_result",
          "data": {
            "text/plain": [
              "tensor(5)"
            ]
          },
          "metadata": {},
          "execution_count": 61
        }
      ]
    },
    {
      "cell_type": "code",
      "source": [
        "# You can also use \":\" to select \"all\" of a target dimension"
      ],
      "metadata": {
        "id": "tw1WIhMoqVhN"
      },
      "execution_count": 62,
      "outputs": []
    },
    {
      "cell_type": "code",
      "source": [
        "x[:,0]"
      ],
      "metadata": {
        "colab": {
          "base_uri": "https://localhost:8080/"
        },
        "id": "7IrXxEtBqk7h",
        "outputId": "6c95f351-d071-4313-9af4-4e57206e942d"
      },
      "execution_count": 63,
      "outputs": [
        {
          "output_type": "execute_result",
          "data": {
            "text/plain": [
              "tensor([[1, 2, 3]])"
            ]
          },
          "metadata": {},
          "execution_count": 63
        }
      ]
    },
    {
      "cell_type": "code",
      "source": [
        "# get all values of 0th and 1st dimensions but only index 1 of 2nd dimension"
      ],
      "metadata": {
        "id": "FWnaOdl4qmWV"
      },
      "execution_count": 64,
      "outputs": []
    },
    {
      "cell_type": "code",
      "source": [
        "x[:,:,1]"
      ],
      "metadata": {
        "colab": {
          "base_uri": "https://localhost:8080/"
        },
        "id": "5CWGGDq_qui_",
        "outputId": "f0833c7a-c4d4-4f74-b8f4-47704dee96a0"
      },
      "execution_count": 65,
      "outputs": [
        {
          "output_type": "execute_result",
          "data": {
            "text/plain": [
              "tensor([[2, 5, 8]])"
            ]
          },
          "metadata": {},
          "execution_count": 65
        }
      ]
    },
    {
      "cell_type": "code",
      "source": [
        "# Get all values of the 0 dimension but only the 1 index value of 1st and 2nd dimension"
      ],
      "metadata": {
        "id": "i5HTbrK7qwxn"
      },
      "execution_count": 66,
      "outputs": []
    },
    {
      "cell_type": "code",
      "source": [
        "x[:,1,1]"
      ],
      "metadata": {
        "colab": {
          "base_uri": "https://localhost:8080/"
        },
        "id": "59PKltMLq5e1",
        "outputId": "f28acc85-c82b-44d3-e180-c7885689f1b7"
      },
      "execution_count": 67,
      "outputs": [
        {
          "output_type": "execute_result",
          "data": {
            "text/plain": [
              "tensor([5])"
            ]
          },
          "metadata": {},
          "execution_count": 67
        }
      ]
    },
    {
      "cell_type": "code",
      "source": [
        "# Get index of 0 of 0th and 1st dimension and all values of 2nd dimension"
      ],
      "metadata": {
        "id": "cUTXKQx0q7d6"
      },
      "execution_count": 68,
      "outputs": []
    },
    {
      "cell_type": "code",
      "source": [
        "x[0,0,:]"
      ],
      "metadata": {
        "colab": {
          "base_uri": "https://localhost:8080/"
        },
        "id": "VNgCfEcYrF5-",
        "outputId": "94eb30ea-cdd9-4b3f-ab01-e305dd04507e"
      },
      "execution_count": 69,
      "outputs": [
        {
          "output_type": "execute_result",
          "data": {
            "text/plain": [
              "tensor([1, 2, 3])"
            ]
          },
          "metadata": {},
          "execution_count": 69
        }
      ]
    },
    {
      "cell_type": "code",
      "source": [
        "# Index on x to return 9"
      ],
      "metadata": {
        "id": "zYIfzgOYrHxc"
      },
      "execution_count": 70,
      "outputs": []
    },
    {
      "cell_type": "code",
      "source": [
        "print(x[0][2][2])"
      ],
      "metadata": {
        "colab": {
          "base_uri": "https://localhost:8080/"
        },
        "id": "MbiwosfTrNaR",
        "outputId": "838734bc-a3ee-40e9-901d-b542e4c095b3"
      },
      "execution_count": 73,
      "outputs": [
        {
          "output_type": "stream",
          "name": "stdout",
          "text": [
            "tensor(9)\n"
          ]
        }
      ]
    },
    {
      "cell_type": "code",
      "source": [
        "# index on x to return 3,6,9"
      ],
      "metadata": {
        "id": "FsdfM-3SrOGh"
      },
      "execution_count": 74,
      "outputs": []
    },
    {
      "cell_type": "code",
      "source": [
        "print(x[:,:,2])"
      ],
      "metadata": {
        "colab": {
          "base_uri": "https://localhost:8080/"
        },
        "id": "rM7d7iSLrSgs",
        "outputId": "a8eea0ee-d9f9-4bad-d43e-260f2e5e7df4"
      },
      "execution_count": 75,
      "outputs": [
        {
          "output_type": "stream",
          "name": "stdout",
          "text": [
            "tensor([[3, 6, 9]])\n"
          ]
        }
      ]
    },
    {
      "cell_type": "code",
      "source": [
        "x"
      ],
      "metadata": {
        "colab": {
          "base_uri": "https://localhost:8080/"
        },
        "id": "4z-zR5OIrpNS",
        "outputId": "1fdcd97f-0e9a-45cd-854d-f4825668a572"
      },
      "execution_count": 76,
      "outputs": [
        {
          "output_type": "execute_result",
          "data": {
            "text/plain": [
              "tensor([[[1, 2, 3],\n",
              "         [4, 5, 6],\n",
              "         [7, 8, 9]]])"
            ]
          },
          "metadata": {},
          "execution_count": 76
        }
      ]
    },
    {
      "cell_type": "markdown",
      "source": [
        "### Pytorch tensors & NumPy"
      ],
      "metadata": {
        "id": "awc1Tkmir8Sl"
      }
    },
    {
      "cell_type": "code",
      "source": [
        "# Numpy array to tensor"
      ],
      "metadata": {
        "id": "S3WS1_qdr2t1"
      },
      "execution_count": 77,
      "outputs": []
    },
    {
      "cell_type": "code",
      "source": [
        "import torch\n",
        "import numpy as np\n",
        "array=np.arange(1.0,8.0)\n",
        "tensor=torch.from_numpy(array)\n",
        "array,tensor"
      ],
      "metadata": {
        "colab": {
          "base_uri": "https://localhost:8080/"
        },
        "id": "N6b32qe5sGmA",
        "outputId": "0bfaf0bc-ab3b-4868-b721-f6ab887863f8"
      },
      "execution_count": 84,
      "outputs": [
        {
          "output_type": "execute_result",
          "data": {
            "text/plain": [
              "(array([1., 2., 3., 4., 5., 6., 7.]),\n",
              " tensor([1., 2., 3., 4., 5., 6., 7.], dtype=torch.float64))"
            ]
          },
          "metadata": {},
          "execution_count": 84
        }
      ]
    },
    {
      "cell_type": "code",
      "source": [
        "array.dtype"
      ],
      "metadata": {
        "colab": {
          "base_uri": "https://localhost:8080/"
        },
        "id": "nOIa1YFXsaQV",
        "outputId": "1446f2f7-f203-428d-e4d3-ede3cf38cdad"
      },
      "execution_count": 83,
      "outputs": [
        {
          "output_type": "execute_result",
          "data": {
            "text/plain": [
              "dtype('float64')"
            ]
          },
          "metadata": {},
          "execution_count": 83
        }
      ]
    },
    {
      "cell_type": "code",
      "source": [
        "tensor.dtype"
      ],
      "metadata": {
        "colab": {
          "base_uri": "https://localhost:8080/"
        },
        "id": "UZO337wBshhy",
        "outputId": "4d9ec374-81e4-445f-ef3b-79331e06809d"
      },
      "execution_count": 80,
      "outputs": [
        {
          "output_type": "execute_result",
          "data": {
            "text/plain": [
              "torch.float64"
            ]
          },
          "metadata": {},
          "execution_count": 80
        }
      ]
    },
    {
      "cell_type": "code",
      "source": [
        "torch.arange(1.0,8.0).dtype"
      ],
      "metadata": {
        "colab": {
          "base_uri": "https://localhost:8080/"
        },
        "id": "2-E4-Wersjid",
        "outputId": "1d3a8346-c169-408a-fd76-67a2d3d932de"
      },
      "execution_count": 81,
      "outputs": [
        {
          "output_type": "execute_result",
          "data": {
            "text/plain": [
              "torch.float32"
            ]
          },
          "metadata": {},
          "execution_count": 81
        }
      ]
    },
    {
      "cell_type": "code",
      "source": [
        "# change the value of array,what will this do to 'tensor'?"
      ],
      "metadata": {
        "id": "3RRv1oEYsoeq"
      },
      "execution_count": 85,
      "outputs": []
    },
    {
      "cell_type": "code",
      "source": [
        "array=array+1\n",
        "array,tensor"
      ],
      "metadata": {
        "colab": {
          "base_uri": "https://localhost:8080/"
        },
        "id": "uW-q6T1qtBUo",
        "outputId": "ea633eb2-9ed9-4dde-8520-3f22c87aceb0"
      },
      "execution_count": 86,
      "outputs": [
        {
          "output_type": "execute_result",
          "data": {
            "text/plain": [
              "(array([2., 3., 4., 5., 6., 7., 8.]),\n",
              " tensor([1., 2., 3., 4., 5., 6., 7.], dtype=torch.float64))"
            ]
          },
          "metadata": {},
          "execution_count": 86
        }
      ]
    },
    {
      "cell_type": "code",
      "source": [
        "# Tensor to NumPy array"
      ],
      "metadata": {
        "id": "eoyP3KdQtEdO"
      },
      "execution_count": 87,
      "outputs": []
    },
    {
      "cell_type": "code",
      "source": [
        "tensor=torch.ones(7)\n",
        "numpy_tensor=tensor.numpy()\n",
        "tensor,numpy_tensor"
      ],
      "metadata": {
        "colab": {
          "base_uri": "https://localhost:8080/"
        },
        "id": "0Zsq3qUltLkz",
        "outputId": "bb54d1f1-eae9-47c5-b7ec-cfde77210967"
      },
      "execution_count": 88,
      "outputs": [
        {
          "output_type": "execute_result",
          "data": {
            "text/plain": [
              "(tensor([1., 1., 1., 1., 1., 1., 1.]),\n",
              " array([1., 1., 1., 1., 1., 1., 1.], dtype=float32))"
            ]
          },
          "metadata": {},
          "execution_count": 88
        }
      ]
    },
    {
      "cell_type": "code",
      "source": [
        "numpy_tensor.dtype"
      ],
      "metadata": {
        "colab": {
          "base_uri": "https://localhost:8080/"
        },
        "id": "nayMfT9XtTwK",
        "outputId": "388d4ce4-c095-4236-a506-0cba8db9ba51"
      },
      "execution_count": 89,
      "outputs": [
        {
          "output_type": "execute_result",
          "data": {
            "text/plain": [
              "dtype('float32')"
            ]
          },
          "metadata": {},
          "execution_count": 89
        }
      ]
    },
    {
      "cell_type": "code",
      "source": [
        "# change the tensor what happens to 'numpy_tensor'?"
      ],
      "metadata": {
        "id": "isDKFY7LtXOJ"
      },
      "execution_count": 90,
      "outputs": []
    },
    {
      "cell_type": "code",
      "source": [
        "tensor=tensor+1\n",
        "tensor,numpy_tensor"
      ],
      "metadata": {
        "colab": {
          "base_uri": "https://localhost:8080/"
        },
        "id": "tIZKKmbOtfke",
        "outputId": "30fcfbc6-84de-48e3-bd38-4695041c5710"
      },
      "execution_count": 91,
      "outputs": [
        {
          "output_type": "execute_result",
          "data": {
            "text/plain": [
              "(tensor([2., 2., 2., 2., 2., 2., 2.]),\n",
              " array([1., 1., 1., 1., 1., 1., 1.], dtype=float32))"
            ]
          },
          "metadata": {},
          "execution_count": 91
        }
      ]
    },
    {
      "cell_type": "markdown",
      "source": [
        "### Reproducibility (trying to take random out of random)"
      ],
      "metadata": {
        "id": "Vn2u6uGIt0ka"
      }
    },
    {
      "cell_type": "code",
      "source": [
        "torch.rand(3,3)"
      ],
      "metadata": {
        "colab": {
          "base_uri": "https://localhost:8080/"
        },
        "id": "KoY2t6wltycn",
        "outputId": "f9ea6f81-6282-449f-d90a-bc0a7be8e02e"
      },
      "execution_count": 92,
      "outputs": [
        {
          "output_type": "execute_result",
          "data": {
            "text/plain": [
              "tensor([[0.5743, 0.6914, 0.4036],\n",
              "        [0.9049, 0.5656, 0.2234],\n",
              "        [0.3939, 0.0994, 0.7086]])"
            ]
          },
          "metadata": {},
          "execution_count": 92
        }
      ]
    },
    {
      "cell_type": "code",
      "source": [
        "import torch\n",
        "# create two random tensors"
      ],
      "metadata": {
        "id": "ZQQBKZJuuIvg"
      },
      "execution_count": 93,
      "outputs": []
    },
    {
      "cell_type": "code",
      "source": [
        "random_tensor_A=torch.rand(3,4)\n",
        "random_tensor_B=torch.rand(3,4)\n",
        "print(random_tensor_A)\n",
        "print(random_tensor_B)\n",
        "print(random_tensor_A==random_tensor_B)"
      ],
      "metadata": {
        "colab": {
          "base_uri": "https://localhost:8080/"
        },
        "id": "s6saWzV8uXAF",
        "outputId": "bde4de77-d7a2-4488-afdc-6bc9fd3b7e93"
      },
      "execution_count": 94,
      "outputs": [
        {
          "output_type": "stream",
          "name": "stdout",
          "text": [
            "tensor([[0.4345, 0.8681, 0.6574, 0.5210],\n",
            "        [0.9028, 0.1226, 0.3195, 0.6705],\n",
            "        [0.5983, 0.9517, 0.3267, 0.3714]])\n",
            "tensor([[0.9161, 0.6915, 0.4745, 0.3576],\n",
            "        [0.4734, 0.3935, 0.0101, 0.7574],\n",
            "        [0.9161, 0.2783, 0.1430, 0.9589]])\n",
            "tensor([[False, False, False, False],\n",
            "        [False, False, False, False],\n",
            "        [False, False, False, False]])\n"
          ]
        }
      ]
    },
    {
      "cell_type": "code",
      "source": [
        "# Make some random but reproducible tensors"
      ],
      "metadata": {
        "id": "5_xDD-jvuzG2"
      },
      "execution_count": 95,
      "outputs": []
    },
    {
      "cell_type": "code",
      "source": [
        "import torch\n",
        "# set the random seed\n",
        "RANDOM_SEED=42\n",
        "torch.manual_seed(RANDOM_SEED)\n",
        "random_tensor_C=torch.rand(3,4)\n",
        "random_tensor_D=torch.rand(3,4)\n",
        "print(random_tensor_C)\n",
        "print(random_tensor_D)\n",
        "print(random_tensor_C==random_tensor_D)"
      ],
      "metadata": {
        "colab": {
          "base_uri": "https://localhost:8080/"
        },
        "id": "DvoA0DhuvLYP",
        "outputId": "f8464531-0d7e-45f8-d4b0-30e4e0f94ac0"
      },
      "execution_count": 96,
      "outputs": [
        {
          "output_type": "stream",
          "name": "stdout",
          "text": [
            "tensor([[0.8823, 0.9150, 0.3829, 0.9593],\n",
            "        [0.3904, 0.6009, 0.2566, 0.7936],\n",
            "        [0.9408, 0.1332, 0.9346, 0.5936]])\n",
            "tensor([[0.8694, 0.5677, 0.7411, 0.4294],\n",
            "        [0.8854, 0.5739, 0.2666, 0.6274],\n",
            "        [0.2696, 0.4414, 0.2969, 0.8317]])\n",
            "tensor([[False, False, False, False],\n",
            "        [False, False, False, False],\n",
            "        [False, False, False, False]])\n"
          ]
        }
      ]
    },
    {
      "cell_type": "code",
      "source": [
        "import torch\n",
        "# set the random seed\n",
        "RANDOM_SEED=42\n",
        "torch.manual_seed(RANDOM_SEED)\n",
        "random_tensor_C=torch.rand(3,4)\n",
        "torch.manual_seed(RANDOM_SEED)\n",
        "random_tensor_D=torch.rand(3,4)\n",
        "print(random_tensor_C)\n",
        "print(random_tensor_D)\n",
        "print(random_tensor_C==random_tensor_D)"
      ],
      "metadata": {
        "colab": {
          "base_uri": "https://localhost:8080/"
        },
        "id": "MTmwfY7Ov4ON",
        "outputId": "9d6f1a84-c8a0-48cb-d885-95ca4de300bc"
      },
      "execution_count": 97,
      "outputs": [
        {
          "output_type": "stream",
          "name": "stdout",
          "text": [
            "tensor([[0.8823, 0.9150, 0.3829, 0.9593],\n",
            "        [0.3904, 0.6009, 0.2566, 0.7936],\n",
            "        [0.9408, 0.1332, 0.9346, 0.5936]])\n",
            "tensor([[0.8823, 0.9150, 0.3829, 0.9593],\n",
            "        [0.3904, 0.6009, 0.2566, 0.7936],\n",
            "        [0.9408, 0.1332, 0.9346, 0.5936]])\n",
            "tensor([[True, True, True, True],\n",
            "        [True, True, True, True],\n",
            "        [True, True, True, True]])\n"
          ]
        }
      ]
    },
    {
      "cell_type": "markdown",
      "source": [],
      "metadata": {
        "id": "_vJEp7idwRB2"
      }
    }
  ]
}